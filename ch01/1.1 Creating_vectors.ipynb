{
 "cells": [
  {
   "cell_type": "code",
   "execution_count": 1,
   "metadata": {},
   "outputs": [],
   "source": [
    "import numpy as np\n",
    "import matplotlib.pyplot as plt\n",
    "\n",
    "import matplotlib_inline.backend_inline\n",
    "matplotlib_inline.backend_inline.set_matplotlib_formats('svg') #display figures in vecotr format\n",
    "plt.rcParams.update({'font.size' : 14}) # set global font size"
   ]
  },
  {
   "cell_type": "code",
   "execution_count": 3,
   "metadata": {},
   "outputs": [],
   "source": [
    "asList = [1,2,3]\n",
    "\n",
    "asArray = np.array([1,2,3]) #1차원 배열(방향이 없는 배열 = 1차원 리스트)\n",
    "\n",
    "rowVec = np.array([ [1,2,3] ])\n",
    "colVec = np.array([[1],[2],[3]])\n"
   ]
  },
  {
   "cell_type": "code",
   "execution_count": 4,
   "metadata": {},
   "outputs": [
    {
     "name": "stdout",
     "output_type": "stream",
     "text": [
      "asList :  (3,)\n",
      "asArray : (3,)\n",
      "rowVec : (1, 3)\n",
      "colVec : (3, 1)\n"
     ]
    }
   ],
   "source": [
    "print(f'asList :  {np.shape(asList)}')\n",
    "print(f'asArray : {asArray.shape}')\n",
    "print(f'rowVec : {rowVec.shape}')\n",
    "print(f'colVec : {colVec.shape}')"
   ]
  }
 ],
 "metadata": {
  "kernelspec": {
   "display_name": "linear_algebra",
   "language": "python",
   "name": "python3"
  },
  "language_info": {
   "codemirror_mode": {
    "name": "ipython",
    "version": 3
   },
   "file_extension": ".py",
   "mimetype": "text/x-python",
   "name": "python",
   "nbconvert_exporter": "python",
   "pygments_lexer": "ipython3",
   "version": "3.13.2"
  }
 },
 "nbformat": 4,
 "nbformat_minor": 2
}
